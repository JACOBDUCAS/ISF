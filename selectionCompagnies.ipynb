{
 "cells": [
  {
   "cell_type": "markdown",
   "metadata": {},
   "source": [
    "\n",
    "**Nous avons trois types de critères pour la sélection des compagnies.  Obligatoires, Importants et Bonus. \n",
    "Catégorie \"Obligatoires\":\n",
    "1. Présence de la compagnie au Canada(est-ce se restreindre au Québec serait mieux?)\n",
    "2. Principale source de revenus ne peut pas affecter négativement l'environnement ou des populations (compagnies pétrolières et d'armes par exemple) (est-ce que le critère devrait être plus sévère)\n",
    "3. Une partie de leurs activités doit aider l'environnement ou l'être humain en général\n",
    "\n",
    "Catégorie \"Importants\":\n",
    "1. La principale activié de la compagnie vise à aider l'humanité ou l'environnement (à un point de vue local ou global) \n",
    "2. La compagnie est carbone neutre\n",
    "\n",
    "Catégorie \"Bonus\"\n",
    "1. Une partie de leurs activités doit aider l'environnement ou l'être humain en général\n",
    "2. La compagnie tente de devenir carbone neutre**"
   ]
  },
  {
   "cell_type": "markdown",
   "metadata": {},
   "source": [
    "**Côté technique: faire une liste de dictionnaires par compagnie [{\"genie:\"chimique logiciel mecanique\", \"nomCompagnie\": \"xxx\", \"critèreCanda: true, \"critèreCarbone:true}, {...}]\n",
    "Si la compagnie ne respecte pas la catégorie \"Obligatoires\", il ne sert à rien de l'ajouter à la liste. Donner 2 points pour les critères importants et 1 point pour les bonus. On peut ensuite faire un palmarès des meilleures compagnies\n",
    "On classe les résultats par génies pour optimiser la représentation.\n",
    "\n",
    "Génies: aerospatial biomedical chimique civil mines electrique geologique industriel infolog mecanique physique**"
   ]
  },
  {
   "cell_type": "code",
   "execution_count": null,
   "metadata": {},
   "outputs": [],
   "source": [
    "import pandas as pd\n",
    "import json"
   ]
  },
  {
   "cell_type": "code",
   "execution_count": null,
   "metadata": {},
   "outputs": [],
   "source": [
    "df = pd.read()"
   ]
  }
 ],
 "metadata": {
  "language_info": {
   "name": "python"
  },
  "orig_nbformat": 4
 },
 "nbformat": 4,
 "nbformat_minor": 2
}
